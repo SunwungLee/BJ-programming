{
 "cells": [
  {
   "cell_type": "code",
   "execution_count": 3,
   "id": "720cd057",
   "metadata": {},
   "outputs": [
    {
     "name": "stdout",
     "output_type": "stream",
     "text": [
      "6\n",
      "4\n"
     ]
    }
   ],
   "source": [
    "from collections import deque\n",
    "n = int(input())\n",
    "x = deque()\n",
    "\n",
    "for i in range(1,n+1):\n",
    "    x.append(i)\n",
    "\n",
    "for _ in range(n-1):\n",
    "    x.popleft()\n",
    "    x.rotate(-1)\n",
    "\n",
    "print(x[0])\n"
   ]
  },
  {
   "cell_type": "code",
   "execution_count": null,
   "id": "10294e4d",
   "metadata": {},
   "outputs": [],
   "source": []
  }
 ],
 "metadata": {
  "kernelspec": {
   "display_name": "Python 3",
   "language": "python",
   "name": "python3"
  },
  "language_info": {
   "codemirror_mode": {
    "name": "ipython",
    "version": 3
   },
   "file_extension": ".py",
   "mimetype": "text/x-python",
   "name": "python",
   "nbconvert_exporter": "python",
   "pygments_lexer": "ipython3",
   "version": "3.8.10"
  }
 },
 "nbformat": 4,
 "nbformat_minor": 5
}
